{
 "cells": [
  {
   "cell_type": "markdown",
   "metadata": {},
   "source": [
    "Great tutorials github with jupyter notebooks\n",
    "https://github.com/SimFin/simfin-tutorials/blob/master/01_Basics.ipynb\n"
   ]
  },
  {
   "cell_type": "code",
   "execution_count": null,
   "metadata": {},
   "outputs": [],
   "source": [
    "import simfin as sf\n",
    "from simfin.names import *\n",
    "\n",
    "# Set your API-key for downloading data.\n",
    "# Replace YOUR_API_KEY with your actual API-key.\n",
    "sf.set_api_key('f8d0acc7-1d68-4db0-8532-b38745a47b5e')\n",
    "\n",
    "# Set the local directory where data-files are stored.\n",
    "# The dir will be created if it does not already exist.\n",
    "sf.set_data_dir('~/simfin_data/')\n",
    "\n",
    "# Load the annual Income Statements for all companies in the US.\n",
    "# The data is automatically downloaded if you don't have it already.\n",
    "df = sf.load_income(variant='annual', market='us')\n",
    "\n",
    "# Print all Revenue and Net Income for Microsoft (ticker MSFT).\n",
    "display(df.loc['MSFT'])"
   ]
  }
 ],
 "metadata": {
  "language_info": {
   "name": "python"
  }
 },
 "nbformat": 4,
 "nbformat_minor": 2
}
