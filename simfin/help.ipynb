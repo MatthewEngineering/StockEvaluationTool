{
 "cells": [
  {
   "cell_type": "code",
   "execution_count": null,
   "metadata": {},
   "outputs": [],
   "source": [
    "# https://github.com/SimFin/simfin-tutorials/blob/master/01_Basics.ipynb\n",
    "\n",
    "import requests\n",
    "\n",
    "url = \"https://backend.simfin.com/api/v3/companies/statements/compact?ticker=O&statements=BS\"\n",
    "\n",
    "headers = {\n",
    "    \"accept\": \"application/json\",\n",
    "    \"Authorization\": \"f8d0acc7-1d68-4db0-8532-b38745a47b5e\"\n",
    "}\n",
    "\n",
    "response = requests.get(url, headers=headers)\n",
    "import json\n",
    "\n",
    "print(json.dumps(response.json(),indent=4))"
   ]
  }
 ],
 "metadata": {
  "kernelspec": {
   "display_name": "Python 3",
   "language": "python",
   "name": "python3"
  },
  "language_info": {
   "codemirror_mode": {
    "name": "ipython",
    "version": 3
   },
   "file_extension": ".py",
   "mimetype": "text/x-python",
   "name": "python",
   "nbconvert_exporter": "python",
   "pygments_lexer": "ipython3",
   "version": "3.12.4"
  }
 },
 "nbformat": 4,
 "nbformat_minor": 2
}
