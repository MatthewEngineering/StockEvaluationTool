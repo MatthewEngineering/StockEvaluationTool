{
 "cells": [
  {
   "cell_type": "code",
   "execution_count": null,
   "id": "9340372a-aae3-496f-a844-6a1d200d226e",
   "metadata": {},
   "outputs": [],
   "source": [
    "%load ../brel_main.py"
   ]
  }
 ],
 "metadata": {
  "kernelspec": {
   "display_name": "Python 3 (ipykernel)",
   "language": "python",
   "name": "python3"
  },
  "language_info": {
   "codemirror_mode": {
    "name": "ipython",
    "version": 3
   },
   "file_extension": ".py",
   "mimetype": "text/x-python",
   "name": "python",
   "nbconvert_exporter": "python",
   "pygments_lexer": "ipython3",
   "version": "3.12.4"
  }
 },
 "nbformat": 4,
 "nbformat_minor": 5
}
