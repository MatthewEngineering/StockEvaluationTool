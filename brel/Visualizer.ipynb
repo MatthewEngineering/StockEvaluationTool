{
 "cells": [
  {
   "cell_type": "code",
   "execution_count": null,
   "id": "7ec785ec-f259-4b51-961d-f6fb117fba96",
   "metadata": {},
   "outputs": [],
   "source": [
    "import brel_main as mybrel\n",
    "df = mybrel.get_presentation()\n",
    "display(df)\n",
    "# print(mybrel.b)"
   ]
  },
  {
   "cell_type": "code",
   "execution_count": null,
   "id": "f6e4c134-dbcc-45a1-be2a-bd2c697134e9",
   "metadata": {},
   "outputs": [],
   "source": [
    "row = df.iloc[4]\n",
    "print(row)\n",
    "# print(row[\"facts\"][0])\n",
    "for fact in row[\"facts\"]:\n",
    "    print(fact)"
   ]
  },
  {
   "cell_type": "code",
   "execution_count": null,
   "id": "5f92ef2e",
   "metadata": {},
   "outputs": [],
   "source": []
  },
  {
   "cell_type": "code",
   "execution_count": null,
   "id": "c75bc029",
   "metadata": {},
   "outputs": [],
   "source": [
    "import brel_search\n",
    "\n",
    "list = brel_search.example5()\n",
    "print(list)\n",
    "# list = [\"test\", \"bal\", \"tset\"]\n",
    "\n",
    "from stringmatch import Ratio, Match\n",
    "match = Match()\n",
    "ratio = Ratio()\n",
    "\n",
    "\n",
    "import pandas as pd\n",
    "n = 1000\n",
    "df = pd.DataFrame(match.get_best_matches_with_ratio (\"balance\",list,score=0,limit=len(list))).sort_values(by=[1],ascending=False)\n",
    "pd.set_option('display.max_columns', n) #replace n with the number of columns you want to see completely\n",
    "pd.set_option('display.max_rows', n) #replace n with the number of rows you want to see completely\n",
    "display(df)\n"
   ]
  },
  {
   "cell_type": "code",
   "execution_count": null,
   "id": "242d95bc",
   "metadata": {},
   "outputs": [],
   "source": []
  }
 ],
 "metadata": {
  "kernelspec": {
   "display_name": "Python 3 (ipykernel)",
   "language": "python",
   "name": "python3"
  },
  "language_info": {
   "codemirror_mode": {
    "name": "ipython",
    "version": 3
   },
   "file_extension": ".py",
   "mimetype": "text/x-python",
   "name": "python",
   "nbconvert_exporter": "python",
   "pygments_lexer": "ipython3",
   "version": "3.12.4"
  }
 },
 "nbformat": 4,
 "nbformat_minor": 5
}
